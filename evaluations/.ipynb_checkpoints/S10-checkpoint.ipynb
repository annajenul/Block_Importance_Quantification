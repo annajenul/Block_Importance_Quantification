{
 "cells": [
  {
   "cell_type": "code",
   "execution_count": 2,
   "metadata": {},
   "outputs": [],
   "source": [
    "from operator import pos\n",
    "import numpy as np\n",
    "import pandas as pd\n",
    "import tensorflow as tf\n",
    "import time\n",
    "\n",
    "import sys\n",
    "sys.path.append(\"/home/anna/GitHub/IMBN\")\n",
    "from src.multiblock_network import multiblock_network\n",
    "import src.help_functions as help_functions\n",
    "from src.help_functions import is_outlier, remove_outliers\n",
    "\n",
    "from tensorflow.keras.layers import Dense, BatchNormalization, Input, Dropout, LSTM\n",
    "from tensorflow.keras.models import Model\n",
    "from tensorflow.keras import Sequential, optimizers\n",
    "from tensorflow.keras.callbacks import ReduceLROnPlateau\n",
    "from tensorflow.keras import regularizers\n",
    "from tensorflow.keras.wrappers.scikit_learn import KerasClassifier\n",
    "\n",
    "from sklearn.preprocessing import StandardScaler\n",
    "from sklearn.metrics import accuracy_score, mean_squared_error, matthews_corrcoef, f1_score, recall_score, precision_score, auc, roc_curve, r2_score\n",
    "from sklearn.model_selection import train_test_split\n",
    "from sklearn.model_selection import StratifiedKFold, KFold\n",
    "from sklearn.datasets import make_classification\n",
    "from sklearn.ensemble import RandomForestRegressor\n",
    "\n",
    "\n",
    "import matplotlib.pyplot as plt\n",
    "import seaborn as sns\n",
    "\n",
    "import warnings\n",
    "warnings.filterwarnings(\"ignore\")"
   ]
  },
  {
   "cell_type": "markdown",
   "metadata": {},
   "source": [
    "Set seeds for reproducibility."
   ]
  },
  {
   "cell_type": "code",
   "execution_count": 3,
   "metadata": {},
   "outputs": [],
   "source": [
    "np.random.seed(42)\n",
    "tf.random.set_seed(42)"
   ]
  },
  {
   "cell_type": "markdown",
   "metadata": {},
   "source": [
    "Load the generated dataset. Due to memory errors, the dataset cannot be stored on GitHub. To reproduce the results, one has to run the simulation.R file in examples/data/simulated_data and change the path."
   ]
  },
  {
   "cell_type": "code",
   "execution_count": 5,
   "metadata": {},
   "outputs": [],
   "source": [
    "X_train = pd.read_csv(\"data/simulated_data_2/D1/X_train.csv\").iloc[:10,1:]\n",
    "X_test = pd.read_csv(\"data/simulated_data_2/D1/X_test.csv\").iloc[:,1:]\n",
    "y_train = pd.read_csv(\"data/simulated_data_2/D1/y_train10.csv\").iloc[:10,1:]\n",
    "y_test = pd.read_csv(\"data/simulated_data_2/D1/y_test10.csv\").iloc[:,1:]\n",
    "beta = pd.read_csv(\"data/simulated_data_2/D1/beta10.csv\").iloc[:,1:].values"
   ]
  },
  {
   "cell_type": "markdown",
   "metadata": {},
   "source": [
    "Split the dataset into 8 blocks."
   ]
  },
  {
   "cell_type": "code",
   "execution_count": 7,
   "metadata": {},
   "outputs": [],
   "source": [
    "data_blocks = []\n",
    "data_blocks_test = []\n",
    "beta_blocks = []\n",
    "j=0\n",
    "for i in range(8):\n",
    "    data_blocks.append(X_train.iloc[:,j:(j+32)])\n",
    "    data_blocks_test.append(X_test.iloc[:,j:(j+32)])\n",
    "    beta_blocks.append(beta[j:(j+32)])\n",
    "    j = j+32"
   ]
  },
  {
   "cell_type": "markdown",
   "metadata": {},
   "source": [
    "Beta values."
   ]
  },
  {
   "cell_type": "code",
   "execution_count": 8,
   "metadata": {},
   "outputs": [
    {
     "ename": "ValueError",
     "evalue": "could not broadcast input array from shape (65536) into shape (512)",
     "output_type": "error",
     "traceback": [
      "\u001b[0;31m---------------------------------------------------------------------------\u001b[0m",
      "\u001b[0;31mValueError\u001b[0m                                Traceback (most recent call last)",
      "\u001b[0;32m<ipython-input-8-95a21b55fc13>\u001b[0m in \u001b[0;36m<module>\u001b[0;34m\u001b[0m\n\u001b[0;32m----> 1\u001b[0;31m \u001b[0mplt\u001b[0m\u001b[0;34m.\u001b[0m\u001b[0mstem\u001b[0m\u001b[0;34m(\u001b[0m\u001b[0mrange\u001b[0m\u001b[0;34m(\u001b[0m\u001b[0;36m32\u001b[0m\u001b[0;34m*\u001b[0m\u001b[0;36m16\u001b[0m\u001b[0;34m)\u001b[0m\u001b[0;34m,\u001b[0m \u001b[0mbeta\u001b[0m\u001b[0;34m)\u001b[0m\u001b[0;34m\u001b[0m\u001b[0;34m\u001b[0m\u001b[0m\n\u001b[0m",
      "\u001b[0;32m~/.local/lib/python3.8/site-packages/matplotlib/pyplot.py\u001b[0m in \u001b[0;36mstem\u001b[0;34m(linefmt, markerfmt, basefmt, bottom, label, use_line_collection, orientation, data, *args)\u001b[0m\n\u001b[1;32m   3132\u001b[0m         \u001b[0mlabel\u001b[0m\u001b[0;34m=\u001b[0m\u001b[0;32mNone\u001b[0m\u001b[0;34m,\u001b[0m \u001b[0muse_line_collection\u001b[0m\u001b[0;34m=\u001b[0m\u001b[0;32mTrue\u001b[0m\u001b[0;34m,\u001b[0m \u001b[0morientation\u001b[0m\u001b[0;34m=\u001b[0m\u001b[0;34m'vertical'\u001b[0m\u001b[0;34m,\u001b[0m\u001b[0;34m\u001b[0m\u001b[0;34m\u001b[0m\u001b[0m\n\u001b[1;32m   3133\u001b[0m         data=None):\n\u001b[0;32m-> 3134\u001b[0;31m     return gca().stem(\n\u001b[0m\u001b[1;32m   3135\u001b[0m         \u001b[0;34m*\u001b[0m\u001b[0margs\u001b[0m\u001b[0;34m,\u001b[0m \u001b[0mlinefmt\u001b[0m\u001b[0;34m=\u001b[0m\u001b[0mlinefmt\u001b[0m\u001b[0;34m,\u001b[0m \u001b[0mmarkerfmt\u001b[0m\u001b[0;34m=\u001b[0m\u001b[0mmarkerfmt\u001b[0m\u001b[0;34m,\u001b[0m \u001b[0mbasefmt\u001b[0m\u001b[0;34m=\u001b[0m\u001b[0mbasefmt\u001b[0m\u001b[0;34m,\u001b[0m\u001b[0;34m\u001b[0m\u001b[0;34m\u001b[0m\u001b[0m\n\u001b[1;32m   3136\u001b[0m         \u001b[0mbottom\u001b[0m\u001b[0;34m=\u001b[0m\u001b[0mbottom\u001b[0m\u001b[0;34m,\u001b[0m \u001b[0mlabel\u001b[0m\u001b[0;34m=\u001b[0m\u001b[0mlabel\u001b[0m\u001b[0;34m,\u001b[0m\u001b[0;34m\u001b[0m\u001b[0;34m\u001b[0m\u001b[0m\n",
      "\u001b[0;32m~/.local/lib/python3.8/site-packages/matplotlib/__init__.py\u001b[0m in \u001b[0;36minner\u001b[0;34m(ax, data, *args, **kwargs)\u001b[0m\n\u001b[1;32m   1359\u001b[0m     \u001b[0;32mdef\u001b[0m \u001b[0minner\u001b[0m\u001b[0;34m(\u001b[0m\u001b[0max\u001b[0m\u001b[0;34m,\u001b[0m \u001b[0;34m*\u001b[0m\u001b[0margs\u001b[0m\u001b[0;34m,\u001b[0m \u001b[0mdata\u001b[0m\u001b[0;34m=\u001b[0m\u001b[0;32mNone\u001b[0m\u001b[0;34m,\u001b[0m \u001b[0;34m**\u001b[0m\u001b[0mkwargs\u001b[0m\u001b[0;34m)\u001b[0m\u001b[0;34m:\u001b[0m\u001b[0;34m\u001b[0m\u001b[0;34m\u001b[0m\u001b[0m\n\u001b[1;32m   1360\u001b[0m         \u001b[0;32mif\u001b[0m \u001b[0mdata\u001b[0m \u001b[0;32mis\u001b[0m \u001b[0;32mNone\u001b[0m\u001b[0;34m:\u001b[0m\u001b[0;34m\u001b[0m\u001b[0;34m\u001b[0m\u001b[0m\n\u001b[0;32m-> 1361\u001b[0;31m             \u001b[0;32mreturn\u001b[0m \u001b[0mfunc\u001b[0m\u001b[0;34m(\u001b[0m\u001b[0max\u001b[0m\u001b[0;34m,\u001b[0m \u001b[0;34m*\u001b[0m\u001b[0mmap\u001b[0m\u001b[0;34m(\u001b[0m\u001b[0msanitize_sequence\u001b[0m\u001b[0;34m,\u001b[0m \u001b[0margs\u001b[0m\u001b[0;34m)\u001b[0m\u001b[0;34m,\u001b[0m \u001b[0;34m**\u001b[0m\u001b[0mkwargs\u001b[0m\u001b[0;34m)\u001b[0m\u001b[0;34m\u001b[0m\u001b[0;34m\u001b[0m\u001b[0m\n\u001b[0m\u001b[1;32m   1362\u001b[0m \u001b[0;34m\u001b[0m\u001b[0m\n\u001b[1;32m   1363\u001b[0m         \u001b[0mbound\u001b[0m \u001b[0;34m=\u001b[0m \u001b[0mnew_sig\u001b[0m\u001b[0;34m.\u001b[0m\u001b[0mbind\u001b[0m\u001b[0;34m(\u001b[0m\u001b[0max\u001b[0m\u001b[0;34m,\u001b[0m \u001b[0;34m*\u001b[0m\u001b[0margs\u001b[0m\u001b[0;34m,\u001b[0m \u001b[0;34m**\u001b[0m\u001b[0mkwargs\u001b[0m\u001b[0;34m)\u001b[0m\u001b[0;34m\u001b[0m\u001b[0;34m\u001b[0m\u001b[0m\n",
      "\u001b[0;32m~/.local/lib/python3.8/site-packages/matplotlib/axes/_axes.py\u001b[0m in \u001b[0;36mstem\u001b[0;34m(self, linefmt, markerfmt, basefmt, bottom, label, use_line_collection, orientation, *args)\u001b[0m\n\u001b[1;32m   2871\u001b[0m                 \u001b[0mlinestyle\u001b[0m \u001b[0;34m=\u001b[0m \u001b[0mrcParams\u001b[0m\u001b[0;34m[\u001b[0m\u001b[0;34m'lines.linestyle'\u001b[0m\u001b[0;34m]\u001b[0m\u001b[0;34m\u001b[0m\u001b[0;34m\u001b[0m\u001b[0m\n\u001b[1;32m   2872\u001b[0m             \u001b[0mxlines\u001b[0m \u001b[0;34m=\u001b[0m \u001b[0mself\u001b[0m\u001b[0;34m.\u001b[0m\u001b[0mvlines\u001b[0m \u001b[0;32mif\u001b[0m \u001b[0morientation\u001b[0m \u001b[0;34m==\u001b[0m \u001b[0;34m\"vertical\"\u001b[0m \u001b[0;32melse\u001b[0m \u001b[0mself\u001b[0m\u001b[0;34m.\u001b[0m\u001b[0mhlines\u001b[0m\u001b[0;34m\u001b[0m\u001b[0;34m\u001b[0m\u001b[0m\n\u001b[0;32m-> 2873\u001b[0;31m             stemlines = xlines(\n\u001b[0m\u001b[1;32m   2874\u001b[0m                 \u001b[0mlocs\u001b[0m\u001b[0;34m,\u001b[0m \u001b[0mbottom\u001b[0m\u001b[0;34m,\u001b[0m \u001b[0mheads\u001b[0m\u001b[0;34m,\u001b[0m\u001b[0;34m\u001b[0m\u001b[0;34m\u001b[0m\u001b[0m\n\u001b[1;32m   2875\u001b[0m                 colors=linecolor, linestyles=linestyle, label=\"_nolegend_\")\n",
      "\u001b[0;32m~/.local/lib/python3.8/site-packages/matplotlib/__init__.py\u001b[0m in \u001b[0;36minner\u001b[0;34m(ax, data, *args, **kwargs)\u001b[0m\n\u001b[1;32m   1359\u001b[0m     \u001b[0;32mdef\u001b[0m \u001b[0minner\u001b[0m\u001b[0;34m(\u001b[0m\u001b[0max\u001b[0m\u001b[0;34m,\u001b[0m \u001b[0;34m*\u001b[0m\u001b[0margs\u001b[0m\u001b[0;34m,\u001b[0m \u001b[0mdata\u001b[0m\u001b[0;34m=\u001b[0m\u001b[0;32mNone\u001b[0m\u001b[0;34m,\u001b[0m \u001b[0;34m**\u001b[0m\u001b[0mkwargs\u001b[0m\u001b[0;34m)\u001b[0m\u001b[0;34m:\u001b[0m\u001b[0;34m\u001b[0m\u001b[0;34m\u001b[0m\u001b[0m\n\u001b[1;32m   1360\u001b[0m         \u001b[0;32mif\u001b[0m \u001b[0mdata\u001b[0m \u001b[0;32mis\u001b[0m \u001b[0;32mNone\u001b[0m\u001b[0;34m:\u001b[0m\u001b[0;34m\u001b[0m\u001b[0;34m\u001b[0m\u001b[0m\n\u001b[0;32m-> 1361\u001b[0;31m             \u001b[0;32mreturn\u001b[0m \u001b[0mfunc\u001b[0m\u001b[0;34m(\u001b[0m\u001b[0max\u001b[0m\u001b[0;34m,\u001b[0m \u001b[0;34m*\u001b[0m\u001b[0mmap\u001b[0m\u001b[0;34m(\u001b[0m\u001b[0msanitize_sequence\u001b[0m\u001b[0;34m,\u001b[0m \u001b[0margs\u001b[0m\u001b[0;34m)\u001b[0m\u001b[0;34m,\u001b[0m \u001b[0;34m**\u001b[0m\u001b[0mkwargs\u001b[0m\u001b[0;34m)\u001b[0m\u001b[0;34m\u001b[0m\u001b[0;34m\u001b[0m\u001b[0m\n\u001b[0m\u001b[1;32m   1362\u001b[0m \u001b[0;34m\u001b[0m\u001b[0m\n\u001b[1;32m   1363\u001b[0m         \u001b[0mbound\u001b[0m \u001b[0;34m=\u001b[0m \u001b[0mnew_sig\u001b[0m\u001b[0;34m.\u001b[0m\u001b[0mbind\u001b[0m\u001b[0;34m(\u001b[0m\u001b[0max\u001b[0m\u001b[0;34m,\u001b[0m \u001b[0;34m*\u001b[0m\u001b[0margs\u001b[0m\u001b[0;34m,\u001b[0m \u001b[0;34m**\u001b[0m\u001b[0mkwargs\u001b[0m\u001b[0;34m)\u001b[0m\u001b[0;34m\u001b[0m\u001b[0;34m\u001b[0m\u001b[0m\n",
      "\u001b[0;32m~/.local/lib/python3.8/site-packages/matplotlib/axes/_axes.py\u001b[0m in \u001b[0;36mvlines\u001b[0;34m(self, x, ymin, ymax, colors, linestyles, label, **kwargs)\u001b[0m\n\u001b[1;32m   1113\u001b[0m         \u001b[0mmasked_verts\u001b[0m\u001b[0;34m[\u001b[0m\u001b[0;34m:\u001b[0m\u001b[0;34m,\u001b[0m \u001b[0;36m0\u001b[0m\u001b[0;34m,\u001b[0m \u001b[0;36m1\u001b[0m\u001b[0;34m]\u001b[0m \u001b[0;34m=\u001b[0m \u001b[0mymin\u001b[0m\u001b[0;34m\u001b[0m\u001b[0;34m\u001b[0m\u001b[0m\n\u001b[1;32m   1114\u001b[0m         \u001b[0mmasked_verts\u001b[0m\u001b[0;34m[\u001b[0m\u001b[0;34m:\u001b[0m\u001b[0;34m,\u001b[0m \u001b[0;36m1\u001b[0m\u001b[0;34m,\u001b[0m \u001b[0;36m0\u001b[0m\u001b[0;34m]\u001b[0m \u001b[0;34m=\u001b[0m \u001b[0mx\u001b[0m\u001b[0;34m\u001b[0m\u001b[0;34m\u001b[0m\u001b[0m\n\u001b[0;32m-> 1115\u001b[0;31m         \u001b[0mmasked_verts\u001b[0m\u001b[0;34m[\u001b[0m\u001b[0;34m:\u001b[0m\u001b[0;34m,\u001b[0m \u001b[0;36m1\u001b[0m\u001b[0;34m,\u001b[0m \u001b[0;36m1\u001b[0m\u001b[0;34m]\u001b[0m \u001b[0;34m=\u001b[0m \u001b[0mymax\u001b[0m\u001b[0;34m\u001b[0m\u001b[0;34m\u001b[0m\u001b[0m\n\u001b[0m\u001b[1;32m   1116\u001b[0m \u001b[0;34m\u001b[0m\u001b[0m\n\u001b[1;32m   1117\u001b[0m         lines = mcoll.LineCollection(masked_verts, colors=colors,\n",
      "\u001b[0;32m~/.local/lib/python3.8/site-packages/numpy/ma/core.py\u001b[0m in \u001b[0;36m__setitem__\u001b[0;34m(self, indx, value)\u001b[0m\n\u001b[1;32m   3378\u001b[0m         \u001b[0;32mif\u001b[0m \u001b[0m_mask\u001b[0m \u001b[0;32mis\u001b[0m \u001b[0mnomask\u001b[0m\u001b[0;34m:\u001b[0m\u001b[0;34m\u001b[0m\u001b[0;34m\u001b[0m\u001b[0m\n\u001b[1;32m   3379\u001b[0m             \u001b[0;31m# Set the data, then the mask\u001b[0m\u001b[0;34m\u001b[0m\u001b[0;34m\u001b[0m\u001b[0;34m\u001b[0m\u001b[0m\n\u001b[0;32m-> 3380\u001b[0;31m             \u001b[0m_data\u001b[0m\u001b[0;34m[\u001b[0m\u001b[0mindx\u001b[0m\u001b[0;34m]\u001b[0m \u001b[0;34m=\u001b[0m \u001b[0mdval\u001b[0m\u001b[0;34m\u001b[0m\u001b[0;34m\u001b[0m\u001b[0m\n\u001b[0m\u001b[1;32m   3381\u001b[0m             \u001b[0;32mif\u001b[0m \u001b[0mmval\u001b[0m \u001b[0;32mis\u001b[0m \u001b[0;32mnot\u001b[0m \u001b[0mnomask\u001b[0m\u001b[0;34m:\u001b[0m\u001b[0;34m\u001b[0m\u001b[0;34m\u001b[0m\u001b[0m\n\u001b[1;32m   3382\u001b[0m                 \u001b[0m_mask\u001b[0m \u001b[0;34m=\u001b[0m \u001b[0mself\u001b[0m\u001b[0;34m.\u001b[0m\u001b[0m_mask\u001b[0m \u001b[0;34m=\u001b[0m \u001b[0mmake_mask_none\u001b[0m\u001b[0;34m(\u001b[0m\u001b[0mself\u001b[0m\u001b[0;34m.\u001b[0m\u001b[0mshape\u001b[0m\u001b[0;34m,\u001b[0m \u001b[0m_dtype\u001b[0m\u001b[0;34m)\u001b[0m\u001b[0;34m\u001b[0m\u001b[0;34m\u001b[0m\u001b[0m\n",
      "\u001b[0;31mValueError\u001b[0m: could not broadcast input array from shape (65536) into shape (512)"
     ]
    },
    {
     "data": {
      "image/png": "[encoded data removed]",
      "text/plain": [
       "<Figure size 432x288 with 1 Axes>"
      ]
     },
     "metadata": {
      "needs_background": "light"
     },
     "output_type": "display_data"
    }
   ],
   "source": [
    "plt.stem(range(32*16), beta)"
   ]
  },
  {
   "cell_type": "markdown",
   "metadata": {},
   "source": [
    "Definition of the Multiblock ANN (M-ANN)."
   ]
  },
  {
   "cell_type": "code",
   "execution_count": 6,
   "metadata": {},
   "outputs": [],
   "source": [
    "num_nodes_concat = 4\n",
    "\n",
    "def build_block_network(data, activation=\"elu\", learning_rate=0.1, prob = \"class\", epochs=1000):\n",
    "    network = multiblock_network()\n",
    "\n",
    "    for b in data:\n",
    "            structure1 = [Input(shape=(np.shape(b)[1],)),\n",
    "                  Dense(16, activation=activation),\n",
    "                  Dense(8, activation=activation),\n",
    "                  Dense(num_nodes_concat, activation=activation)]\n",
    "            network.define_block_net(structure1.copy())\n",
    "\n",
    "    structure = [Dense(2, activation=activation),\n",
    "                 Dense(2, activation=activation),\n",
    "                 Dense(1, activation=\"linear\")]\n",
    "    #concatenate\n",
    "    network.define_block_concatenation(structure=structure)\n",
    "\n",
    "    opt = tf.keras.optimizers.RMSprop()\n",
    "\n",
    "\n",
    "    if prob ==\"class\":\n",
    "        network.compile(loss=\"binary_crossentropy\", optimizer=opt,\n",
    "                       metrics=[help_functions.matthews_correlation, help_functions.f1_m])\n",
    "    elif prob == \"regression\":\n",
    "        network.compile(loss='mean_squared_error', optimizer=opt,\n",
    "                        metrics=[help_functions.coeff_determination])\n",
    "\n",
    "    return network"
   ]
  },
  {
   "cell_type": "markdown",
   "metadata": {},
   "source": [
    "The batch size, number of epochs, learning rate and activation function were previously selected as suitable with a three-fold cross validation approach."
   ]
  },
  {
   "cell_type": "code",
   "execution_count": 7,
   "metadata": {},
   "outputs": [],
   "source": [
    "batch_size = 64\n",
    "epochs = 2\n",
    "learning_rate =1\n",
    "activation = 'relu'"
   ]
  },
  {
   "cell_type": "markdown",
   "metadata": {},
   "source": [
    "The data blocks are scaled columnwise with mean and standard deviation of the training data. "
   ]
  },
  {
   "cell_type": "code",
   "execution_count": 8,
   "metadata": {},
   "outputs": [],
   "source": [
    "data_blocks_sc = []\n",
    "data_blocks_test_sc = []\n",
    "\n",
    "for i in range(len(data_blocks)):\n",
    "    sc = StandardScaler()\n",
    "    data_blocks_sc.append(sc.fit_transform(data_blocks[i]))\n",
    "    data_blocks_test_sc.append(sc.transform(data_blocks_test[i]))"
   ]
  },
  {
   "cell_type": "markdown",
   "metadata": {},
   "source": [
    "We train the model 30 times with independent, random weight initializations. The knock-out and knock-in, as well as vargrad max and vargrad mean are computed."
   ]
  },
  {
   "cell_type": "code",
   "execution_count": 9,
   "metadata": {},
   "outputs": [],
   "source": [
    "def create_list(num):\n",
    "        return [None for _ in range(num)]\n",
    "\n",
    "\n",
    "n = 2\n",
    "\n",
    "# metrics\n",
    "rmseiqr = create_list(n)\n",
    "rmse_q1 = np.quantile(y_test, 0.25)\n",
    "rmse_q3 = np.quantile(y_test, 0.75)\n",
    "\n",
    "r2 = create_list(n)\n",
    "\n",
    "KI = create_list(n)\n",
    "KO = create_list(n)\n",
    "\n",
    "vargrad_max = create_list(n)\n",
    "vargrad_mean = create_list(n)\n",
    "\n",
    "time_track = create_list(n)\n",
    "\n",
    "for i in range(n):\n",
    "    np.random.seed(i)\n",
    "    tf.random.set_seed(i)\n",
    "    \n",
    "    start = time.time()\n",
    "    network = build_block_network(data=data_blocks_sc, activation=activation,\n",
    "                                learning_rate=learning_rate, prob=\"regression\", epochs=epochs)\n",
    "\n",
    "    network.fit(data_blocks_sc, y_train, epochs=epochs, batch_size=batch_size,\n",
    "                validation_data = (data_blocks_test_sc,  y_test), verbose=0, problem=\"regression\")\n",
    "    \n",
    "    end = time.time()\n",
    "    time_track[i] = end-start\n",
    "    \n",
    "    pred = network.predict(data_blocks_test_sc)\n",
    "    rmseiqr[i] = (mean_squared_error(y_test, pred, squared=False)/(rmse_q3-rmse_q1))\n",
    "    r2[i] = r2_score(y_test, pred)\n",
    "    \n",
    "    l = 10 # number of bins\n",
    "    KI[i] = network.MI(data_blocks_sc, type=\"mean\", eps=1e-100, bins=l, knock_out=False, on_input=False,\n",
    "                        density=True, plot=False)\n",
    "    \n",
    "    KO[i] = np.log2(l) - network.MI(data_blocks_sc, type=\"mean\", eps=1e-100, bins=l, knock_out=True, on_input=False,\n",
    "                         density=True, plot=False)\n",
    "\n",
    "\n",
    "    vargrad_max[i] = network.vargrad_input(data_blocks_sc, type=\"max\", seed=i)\n",
    "    vargrad_mean[i] = network.vargrad_input(data_blocks_sc, type=\"mean\", seed=i)"
   ]
  },
  {
   "cell_type": "code",
   "execution_count": 10,
   "metadata": {},
   "outputs": [
    {
     "data": {
      "text/plain": [
       "[4.665271282196045, 4.266453266143799]"
      ]
     },
     "execution_count": 10,
     "metadata": {},
     "output_type": "execute_result"
    }
   ],
   "source": [
    "time_track"
   ]
  },
  {
   "cell_type": "code",
   "execution_count": null,
   "metadata": {},
   "outputs": [],
   "source": [
    "print(\"average time:\", np.mean(time_track))"
   ]
  },
  {
   "cell_type": "code",
   "execution_count": null,
   "metadata": {},
   "outputs": [],
   "source": [
    "from tensorflow.keras.utils import plot_model, model_to_dot\n",
    "plot_model(network.comb_net, show_shapes=True, show_layer_names=True,rankdir='LR', dpi=96, expand_nested=True)"
   ]
  },
  {
   "cell_type": "code",
   "execution_count": null,
   "metadata": {},
   "outputs": [],
   "source": [
    "init_rmseiqr = rmseiqr.copy()\n",
    "init_r2 = r2.copy()"
   ]
  },
  {
   "cell_type": "code",
   "execution_count": null,
   "metadata": {},
   "outputs": [],
   "source": [
    "print(\"Mean rmseiqr:\", np.mean(rmseiqr), \"sd rmseiqr:\", np.std(rmseiqr))\n",
    "print(\"Mean R2:\", np.mean(r2), \"sd R2:\", np.std(r2))"
   ]
  },
  {
   "cell_type": "code",
   "execution_count": null,
   "metadata": {},
   "outputs": [],
   "source": [
    "plt.scatter(x=range(n), y = rmseiqr)"
   ]
  },
  {
   "cell_type": "code",
   "execution_count": null,
   "metadata": {},
   "outputs": [],
   "source": [
    "outliers = np.where([i<0.8 for i in r2])[0]\n",
    "outliers"
   ]
  },
  {
   "cell_type": "markdown",
   "metadata": {},
   "source": [
    "We remove the runs with a weak performance due to bad initializations. "
   ]
  },
  {
   "cell_type": "code",
   "execution_count": null,
   "metadata": {},
   "outputs": [],
   "source": [
    "if len(outliers)>=1:\n",
    "    rmseiqr = remove_outliers(rmseiqr, outliers)\n",
    "    r2 = remove_outliers(r2, outliers)\n",
    "    \n",
    "    t = []\n",
    "    for i in KO:\n",
    "        t.append(i.tolist())\n",
    "\n",
    "    KO = remove_outliers(t, outliers)\n",
    "\n",
    "    t = []\n",
    "    for i in KI:\n",
    "        t.append(i.tolist())\n",
    "\n",
    "    KI = remove_outliers(t, outliers)\n",
    "    vargrad_max = remove_outliers(vargrad_max, outliers)\n",
    "    vargrad_mean = remove_outliers(vargrad_mean, outliers)"
   ]
  },
  {
   "cell_type": "code",
   "execution_count": null,
   "metadata": {},
   "outputs": [],
   "source": [
    "print(\"Mean rmseiqr:\", np.mean(rmseiqr), \"sd rmseiqr:\", np.std(rmseiqr))\n",
    "print(\"Mean R2:\", np.mean(r2), \"sd R2:\", np.std(r2))"
   ]
  },
  {
   "cell_type": "markdown",
   "metadata": {},
   "source": [
    "Overview of the KO, KI, vargrad max and vargrad mean results."
   ]
  },
  {
   "cell_type": "code",
   "execution_count": null,
   "metadata": {},
   "outputs": [],
   "source": [
    "def violinplot_block_importance(measure, name, minimize,title_text=None):\n",
    "    \n",
    "    length = np.shape(np.vstack(measure))[0]\n",
    "\n",
    "    dic = {\"Block\": list(np.repeat(\"Block1\", length)) + list(np.repeat(\"Block2\", length))\n",
    "           + list(np.repeat(\"Block3\", length))\n",
    "                 + list(np.repeat(\"Block4\", length))\n",
    "                       + list(np.repeat(\"Block5\", length))\n",
    "                             + list(np.repeat(\"Block6\", length))\n",
    "                                   + list(np.repeat(\"Block7\", length))\n",
    "                                         + list(np.repeat(\"Block8\", length)),\n",
    "                                                    name : np.column_stack(np.vstack(measure)).reshape(-1,)}\n",
    "    dic = pd.DataFrame(dic)\n",
    "\n",
    "    fig, ax =plt.subplots(1,1)\n",
    "    fig.set_size_inches(15, 10)\n",
    "    sns.set(font_scale = 2)\n",
    "\n",
    "    a = sns.boxplot(x=\"Block\", y=name, data=dic, whis=np.inf, palette=\"Paired\")\n",
    "    sns.swarmplot(x=\"Block\", y=name, data=dic, color=\".2\", size=6)\n",
    "    a.set(xlabel=None)\n",
    "    a.set(title=title_text)"
   ]
  },
  {
   "cell_type": "code",
   "execution_count": null,
   "metadata": {},
   "outputs": [],
   "source": [
    "violinplot_block_importance(KO, \"MI knock out\", minimize=False, title_text = \"MI knock out\")"
   ]
  },
  {
   "cell_type": "code",
   "execution_count": null,
   "metadata": {},
   "outputs": [],
   "source": [
    "violinplot_block_importance(KI, \"MI knock in\", minimize=False, title_text = \"MI knock in\")"
   ]
  },
  {
   "cell_type": "code",
   "execution_count": null,
   "metadata": {},
   "outputs": [],
   "source": [
    "violinplot_block_importance(vargrad_max, \"VG max\", minimize=False, title_text = \"Composite max\")"
   ]
  },
  {
   "cell_type": "code",
   "execution_count": null,
   "metadata": {},
   "outputs": [],
   "source": [
    "violinplot_block_importance(vargrad_mean, \"VG mean\", minimize=False, title_text = \"Composite mean\")"
   ]
  },
  {
   "cell_type": "markdown",
   "metadata": {},
   "source": [
    "Save the results."
   ]
  },
  {
   "cell_type": "code",
   "execution_count": null,
   "metadata": {},
   "outputs": [],
   "source": [
    "pd.DataFrame(np.vstack(KO)).to_csv(\"../results/results_S1/MI_knock_out.csv\", index=False)\n",
    "pd.DataFrame(np.vstack(KI)).to_csv(\"../results/results_S1/MI_knock_in.csv\", index=False)\n",
    "pd.DataFrame(np.vstack(vargrad_max)).to_csv(\"../results/results_S1/vargrad_max.csv\", index=False)\n",
    "pd.DataFrame(np.vstack(vargrad_mean)).to_csv(\"../results/results_S1/vargrad_mean.csv\", index=False)\n",
    "\n",
    "pd.DataFrame(rmseiqr).to_csv(\"../results/results_S1/rmseiqr.csv\", index=False)\n",
    "pd.DataFrame(r2).to_csv(\"../results/results_S1/r2.csv\", index=False)"
   ]
  },
  {
   "cell_type": "markdown",
   "metadata": {},
   "source": [
    "Compute the ground truth for KI and KO."
   ]
  },
  {
   "cell_type": "code",
   "execution_count": null,
   "metadata": {},
   "outputs": [],
   "source": [
    "# ground truth knock in\n",
    "rmseiqr_KI = []\n",
    "r2_KI = []\n",
    "rmse_q1 = np.quantile(y_train, 0.25)\n",
    "rmse_q3 = np.quantile(y_train, 0.75)\n",
    "\n",
    "for i in range(8):\n",
    "    q = data_blocks[i] * data_blocks[i]\n",
    "    TP = q.dot(beta_blocks[i])\n",
    "    r2_KI.append(r2_score(y_true=y_train, y_pred=TP))\n",
    "    rmseiqr_KI.append(-1 * mean_squared_error(y_true=y_train, y_pred=TP, squared=False) / (rmse_q3-rmse_q1))\n",
    "print(\"knock in:\")\n",
    "print(pd.DataFrame(np.stack([rmseiqr_KI, r2_KI], axis=1), columns=['rmseiqr','r2']))\n",
    "\n",
    "\n",
    "rmseiqr_KO = []\n",
    "r2_KO = []\n",
    "for i in range(8):\n",
    "    b = pd.concat([x for j,x in enumerate(data_blocks) if j!=i], \n",
    "                  axis=1, ignore_index=False)\n",
    "    q = b * b\n",
    "    bl = [x for j,x in enumerate(beta_blocks) if j!=i]\n",
    "    TP = q.dot(np.concatenate(bl, axis=0))\n",
    "    r2_KO.append(r2_score(y_true=y_train, y_pred=TP))\n",
    "    rmseiqr_KO.append(mean_squared_error(y_true=y_train, y_pred=TP, squared=False) / (rmse_q3-rmse_q1))\n",
    "print(\"knock out:\")\n",
    "print(pd.DataFrame(np.stack([rmseiqr_KO, r2_KO], axis=1), columns=['rmseiqr','r2']))"
   ]
  },
  {
   "cell_type": "code",
   "execution_count": null,
   "metadata": {},
   "outputs": [],
   "source": [
    "def summary_merge(vec_list, absolute=True):\n",
    "    \n",
    "    def summary(vec, absolute=True):\n",
    "    \n",
    "        if absolute:\n",
    "            vec = abs(vec)\n",
    "        \n",
    "        summary = {\"mean\": np.mean(vec),\n",
    "                   \"max\": np.max(vec)}\n",
    "    \n",
    "        return pd.DataFrame(summary, index=[0])\n",
    "    \n",
    "    summary = [np.round(summary(vec, absolute=absolute), 3) for vec in vec_list]\n",
    "    return(pd.concat(summary, axis=0, ignore_index=True))"
   ]
  },
  {
   "cell_type": "markdown",
   "metadata": {},
   "source": [
    "Compute the ground truth for vargrad max and vargrad mean."
   ]
  },
  {
   "cell_type": "code",
   "execution_count": null,
   "metadata": {},
   "outputs": [],
   "source": [
    "summary = summary_merge(beta_blocks)\n",
    "summary"
   ]
  },
  {
   "cell_type": "markdown",
   "metadata": {},
   "source": [
    "Compute Spearman rank correlation between ground truth and our results."
   ]
  },
  {
   "cell_type": "code",
   "execution_count": null,
   "metadata": {},
   "outputs": [],
   "source": [
    "from scipy.stats import spearmanr\n",
    "\n",
    "def corr_summary(metric, measure):\n",
    "    sp = []\n",
    "    for i in metric:\n",
    "        sp.append(spearmanr(i, measure)[0])\n",
    "    return np.mean(sp), np.std(sp)\n",
    "\n",
    "\n",
    "def spearman_boxplot(metrics, measures, names):\n",
    "    name = []\n",
    "    sp = []\n",
    "    for m in range(len(metrics)):\n",
    "        name.extend(np.repeat(names[m], len(metrics[m])))  \n",
    "        for i in metrics[m]:\n",
    "            sp.append(spearmanr(i,measures[m])[0])\n",
    "    res = pd.DataFrame(np.stack([name, sp], axis=1), columns = ['name', 'value'])\n",
    "    res[\"value\"] = res[\"value\"].astype(float)\n",
    "    print(res.dtypes)\n",
    "    fig, ax =plt.subplots(1,1)\n",
    "    fig.set_size_inches(15, 10)\n",
    "    sns.boxplot(x=\"name\", y='value', data=res, whis=np.inf, palette=\"Paired\")\n",
    "    sns.swarmplot(x=\"name\", y='value', data=res, color=\".2\", size=6)"
   ]
  },
  {
   "cell_type": "code",
   "execution_count": null,
   "metadata": {},
   "outputs": [],
   "source": [
    "spearman_boxplot([KI, KO, vargrad_max, vargrad_mean], \n",
    "                 [rmseiqr_KI, rmseiqr_KO, summary['max'], summary['mean']],\n",
    "                 ['MI_KI', 'MI_KO', 'V_max', 'V_mean'])"
   ]
  },
  {
   "cell_type": "code",
   "execution_count": null,
   "metadata": {},
   "outputs": [],
   "source": [
    "print(\"MI knock in:\", corr_summary(KI, rmseiqr_KI))\n",
    "print(\"MI knock out:\", corr_summary(KO, rmseiqr_KO))"
   ]
  },
  {
   "cell_type": "code",
   "execution_count": null,
   "metadata": {},
   "outputs": [],
   "source": [
    "print(\"VG max:\", corr_summary(vargrad_max, summary[\"max\"]))\n",
    "print(\"VG mean:\", corr_summary(vargrad_mean, summary[\"mean\"]))"
   ]
  },
  {
   "cell_type": "markdown",
   "metadata": {},
   "source": [
    "With a Students $t$-test we compare if the block differences are significant based on an $\\alpha$ value of 0.05."
   ]
  },
  {
   "cell_type": "code",
   "execution_count": null,
   "metadata": {},
   "outputs": [],
   "source": [
    "import pandas as pd\n",
    "KO = pd.read_csv(\"../results/results_S1/MI_knock_out.csv\")\n",
    "KI = pd.read_csv(\"../results/results_S1/MI_knock_in.csv\")\n",
    "V_max = pd.read_csv(\"../results/results_S1/vargrad_max.csv\")\n",
    "V_mean = pd.read_csv(\"../results/results_S1/vargrad_mean.csv\")"
   ]
  },
  {
   "cell_type": "code",
   "execution_count": null,
   "metadata": {},
   "outputs": [],
   "source": [
    "import scikit_posthocs as sp\n",
    "import numpy as np\n",
    "import seaborn as sns\n",
    "import matplotlib.pyplot as plt\n",
    "from matplotlib.colors import LinearSegmentedColormap\n",
    "\n",
    "def plt_heatmap(metric, title=\"t-test\"):\n",
    "    t_values =sp.posthoc_ttest(np.transpose(metric).values.tolist(), p_adjust = 'bonferroni')\n",
    "    significant = (t_values < 0.05) \n",
    "    labels = np.array(significant).astype(\"str\")\n",
    "    labels[labels ==\"True\"] = \"T\"\n",
    "    labels[labels ==\"False\"] = \"F\"\n",
    "    mask = np.zeros_like(t_values)\n",
    "    mask[np.triu_indices_from(mask)] = True\n",
    "\n",
    "    cmap = LinearSegmentedColormap.from_list(\n",
    "        name='test', \n",
    "        colors=[(0,'green'),(0.05,'white'),(1,'red')]\n",
    "    )\n",
    "    with sns.axes_style(\"white\"):\n",
    "        f, ax = plt.subplots(figsize=(7, 5))\n",
    "        ax = sns.heatmap(t_values, mask=mask, square=True,linewidths=.5,\n",
    "                            annot=labels,fmt = '', cmap = cmap).set_title(title)"
   ]
  },
  {
   "cell_type": "code",
   "execution_count": null,
   "metadata": {},
   "outputs": [],
   "source": [
    "plt_heatmap(KO, \"Knock out\")"
   ]
  },
  {
   "cell_type": "code",
   "execution_count": null,
   "metadata": {},
   "outputs": [],
   "source": [
    "plt_heatmap(KO, \"Knock in\")"
   ]
  },
  {
   "cell_type": "code",
   "execution_count": null,
   "metadata": {},
   "outputs": [],
   "source": [
    "plt_heatmap(V_max, \"vargrad max\")"
   ]
  },
  {
   "cell_type": "code",
   "execution_count": null,
   "metadata": {},
   "outputs": [],
   "source": [
    "plt_heatmap(V_mean, \"vargrad mean\")"
   ]
  }
 ],
 "metadata": {
  "kernelspec": {
   "display_name": "Python 3",
   "language": "python",
   "name": "python3"
  },
  "language_info": {
   "codemirror_mode": {
    "name": "ipython",
    "version": 3
   },
   "file_extension": ".py",
   "mimetype": "text/x-python",
   "name": "python",
   "nbconvert_exporter": "python",
   "pygments_lexer": "ipython3",
   "version": "3.8.10"
  }
 },
 "nbformat": 4,
 "nbformat_minor": 4
}
