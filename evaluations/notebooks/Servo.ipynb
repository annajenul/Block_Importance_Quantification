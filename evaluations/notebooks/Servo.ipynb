{
 "cells": [
  {
   "cell_type": "code",
   "execution_count": 1,
   "metadata": {},
   "outputs": [],
   "source": [
    "from operator import pos\n",
    "import numpy as np\n",
    "import pandas as pd\n",
    "import tensorflow as tf\n",
    "import time\n",
    "\n",
    "import os\n",
    "os.chdir(\"/home/anna/GitHub/Block_Importance_Quantification\")\n",
    "from src.M_ANN.multiblock_network import multiblock_network\n",
    "import src.M_ANN.help_functions as help_functions\n",
    "from src.M_ANN.help_functions import remove_outliers\n",
    "\n",
    "from tensorflow.keras.layers import Dense, BatchNormalization, Input, Dropout, LSTM\n",
    "from tensorflow.keras.models import Model\n",
    "from tensorflow.keras import Sequential, optimizers\n",
    "from tensorflow.keras.callbacks import ReduceLROnPlateau\n",
    "from tensorflow.keras import regularizers\n",
    "from tensorflow.keras.wrappers.scikit_learn import KerasClassifier\n",
    "\n",
    "from sklearn.preprocessing import StandardScaler\n",
    "from sklearn.metrics import accuracy_score, mean_squared_error, matthews_corrcoef, f1_score, recall_score, precision_score, auc, roc_curve, r2_score\n",
    "from sklearn.model_selection import train_test_split\n",
    "from sklearn.model_selection import StratifiedKFold, KFold\n",
    "from sklearn.datasets import make_classification\n",
    "from sklearn.ensemble import RandomForestRegressor\n",
    "\n",
    "\n",
    "import matplotlib.pyplot as plt\n",
    "import seaborn as sns\n",
    "\n",
    "import warnings\n",
    "warnings.filterwarnings(\"ignore\")"
   ]
  },
  {
   "cell_type": "code",
   "execution_count": 2,
   "metadata": {},
   "outputs": [],
   "source": [
    "np.random.seed(42)\n",
    "tf.random.set_seed(42)"
   ]
  },
  {
   "cell_type": "code",
   "execution_count": 3,
   "metadata": {},
   "outputs": [
    {
     "data": {
      "text/html": [
       "<div>\n",
       "<style scoped>\n",
       "    .dataframe tbody tr th:only-of-type {\n",
       "        vertical-align: middle;\n",
       "    }\n",
       "\n",
       "    .dataframe tbody tr th {\n",
       "        vertical-align: top;\n",
       "    }\n",
       "\n",
       "    .dataframe thead th {\n",
       "        text-align: right;\n",
       "    }\n",
       "</style>\n",
       "<table border=\"1\" class=\"dataframe\">\n",
       "  <thead>\n",
       "    <tr style=\"text-align: right;\">\n",
       "      <th></th>\n",
       "      <th>motor</th>\n",
       "      <th>screw</th>\n",
       "      <th>pgain</th>\n",
       "      <th>vgain</th>\n",
       "      <th>target</th>\n",
       "    </tr>\n",
       "  </thead>\n",
       "  <tbody>\n",
       "    <tr>\n",
       "      <th>0</th>\n",
       "      <td>E</td>\n",
       "      <td>E</td>\n",
       "      <td>5</td>\n",
       "      <td>4</td>\n",
       "      <td>0.281251</td>\n",
       "    </tr>\n",
       "    <tr>\n",
       "      <th>1</th>\n",
       "      <td>B</td>\n",
       "      <td>D</td>\n",
       "      <td>6</td>\n",
       "      <td>5</td>\n",
       "      <td>0.506252</td>\n",
       "    </tr>\n",
       "    <tr>\n",
       "      <th>2</th>\n",
       "      <td>D</td>\n",
       "      <td>D</td>\n",
       "      <td>4</td>\n",
       "      <td>3</td>\n",
       "      <td>0.356251</td>\n",
       "    </tr>\n",
       "    <tr>\n",
       "      <th>3</th>\n",
       "      <td>B</td>\n",
       "      <td>A</td>\n",
       "      <td>3</td>\n",
       "      <td>2</td>\n",
       "      <td>5.500033</td>\n",
       "    </tr>\n",
       "    <tr>\n",
       "      <th>4</th>\n",
       "      <td>D</td>\n",
       "      <td>B</td>\n",
       "      <td>6</td>\n",
       "      <td>5</td>\n",
       "      <td>0.356251</td>\n",
       "    </tr>\n",
       "    <tr>\n",
       "      <th>...</th>\n",
       "      <td>...</td>\n",
       "      <td>...</td>\n",
       "      <td>...</td>\n",
       "      <td>...</td>\n",
       "      <td>...</td>\n",
       "    </tr>\n",
       "    <tr>\n",
       "      <th>162</th>\n",
       "      <td>B</td>\n",
       "      <td>C</td>\n",
       "      <td>3</td>\n",
       "      <td>2</td>\n",
       "      <td>4.499986</td>\n",
       "    </tr>\n",
       "    <tr>\n",
       "      <th>163</th>\n",
       "      <td>B</td>\n",
       "      <td>E</td>\n",
       "      <td>3</td>\n",
       "      <td>1</td>\n",
       "      <td>3.699967</td>\n",
       "    </tr>\n",
       "    <tr>\n",
       "      <th>164</th>\n",
       "      <td>C</td>\n",
       "      <td>D</td>\n",
       "      <td>4</td>\n",
       "      <td>3</td>\n",
       "      <td>0.956256</td>\n",
       "    </tr>\n",
       "    <tr>\n",
       "      <th>165</th>\n",
       "      <td>A</td>\n",
       "      <td>B</td>\n",
       "      <td>3</td>\n",
       "      <td>2</td>\n",
       "      <td>4.499986</td>\n",
       "    </tr>\n",
       "    <tr>\n",
       "      <th>166</th>\n",
       "      <td>A</td>\n",
       "      <td>A</td>\n",
       "      <td>6</td>\n",
       "      <td>5</td>\n",
       "      <td>0.806255</td>\n",
       "    </tr>\n",
       "  </tbody>\n",
       "</table>\n",
       "<p>167 rows × 5 columns</p>\n",
       "</div>"
      ],
      "text/plain": [
       "    motor screw  pgain  vgain    target\n",
       "0       E     E      5      4  0.281251\n",
       "1       B     D      6      5  0.506252\n",
       "2       D     D      4      3  0.356251\n",
       "3       B     A      3      2  5.500033\n",
       "4       D     B      6      5  0.356251\n",
       "..    ...   ...    ...    ...       ...\n",
       "162     B     C      3      2  4.499986\n",
       "163     B     E      3      1  3.699967\n",
       "164     C     D      4      3  0.956256\n",
       "165     A     B      3      2  4.499986\n",
       "166     A     A      6      5  0.806255\n",
       "\n",
       "[167 rows x 5 columns]"
      ]
     },
     "execution_count": 3,
     "metadata": {},
     "output_type": "execute_result"
    }
   ],
   "source": [
    "car = pd.read_csv(\"data/servo/servo.data\", header=None)\n",
    "car.columns = [\"motor\", \"screw\", \"pgain\", \"vgain\", \"target\"]\n",
    "car"
   ]
  },
  {
   "cell_type": "code",
   "execution_count": 4,
   "metadata": {},
   "outputs": [],
   "source": [
    "train = car.iloc[:120,:-1]\n",
    "y_train = car.iloc[:120,-1]\n",
    "test = car.iloc[120:,:-1]\n",
    "y_test = car.iloc[120:,-1]"
   ]
  },
  {
   "cell_type": "code",
   "execution_count": 5,
   "metadata": {},
   "outputs": [],
   "source": [
    "data_blocks = []\n",
    "data_blocks_test = []\n",
    "for i in range(2):\n",
    "    data_blocks.append(pd.get_dummies(train.iloc[:,i], prefix = train.columns[i]))\n",
    "    data_blocks_test.append(pd.get_dummies(test.iloc[:,i], prefix = test.columns[i]))\n",
    "for i in np.arange(2,4):\n",
    "    data_blocks.append(train.iloc[:,i])\n",
    "    data_blocks_test.append(test.iloc[:,i])"
   ]
  },
  {
   "cell_type": "code",
   "execution_count": 6,
   "metadata": {},
   "outputs": [],
   "source": [
    "def build_block_network(data, activation=\"elu\", learning_rate=0.1, prob = \"class\", epochs=1000):\n",
    "    network = multiblock_network()\n",
    "\n",
    "    for b in data:\n",
    "            structure1 = [Input(shape=(np.shape(b)[1],)),\n",
    "                          #Dense(4, activation=activation),\n",
    "                  Dense(np.shape(b)[1], activation=\"linear\")]\n",
    "            network.define_block_net(structure1.copy())\n",
    "\n",
    "    structure = [Dense(12, activation=activation),\n",
    "                 Dense(8, activation=activation),\n",
    "                 Dense(4, activation=activation),\n",
    "                 Dense(2, activation=activation),\n",
    "                 Dense(1, activation=\"linear\")]\n",
    "    #concatenate\n",
    "    network.define_block_concatenation(structure=structure)\n",
    "\n",
    "    opt = tf.keras.optimizers.RMSprop()\n",
    "\n",
    "\n",
    "    if prob ==\"class\":\n",
    "        network.compile(loss=\"binary_crossentropy\", optimizer=opt,\n",
    "                       metrics=[help_functions.matthews_correlation, help_functions.f1_m])\n",
    "    elif prob == \"regression\":\n",
    "        network.compile(loss='mean_squared_error', optimizer=opt,\n",
    "                        metrics=[help_functions.coeff_determination])\n",
    "\n",
    "    return network"
   ]
  },
  {
   "cell_type": "code",
   "execution_count": 7,
   "metadata": {},
   "outputs": [
    {
     "name": "stdout",
     "output_type": "stream",
     "text": [
      "64 200 1 elu\n",
      "64 200 1 swish\n",
      "64 200 1 relu\n",
      "64 200 5 elu\n",
      "64 200 5 swish\n",
      "64 200 5 relu\n",
      "64 200 8 elu\n",
      "64 200 8 swish\n",
      "64 200 8 relu\n",
      "64 500 1 elu\n",
      "64 500 1 swish\n",
      "64 500 1 relu\n",
      "64 500 5 elu\n",
      "64 500 5 swish\n",
      "64 500 5 relu\n",
      "64 500 8 elu\n",
      "64 500 8 swish\n",
      "64 500 8 relu\n",
      "32 200 1 elu\n",
      "32 200 1 swish\n",
      "32 200 1 relu\n",
      "32 200 5 elu\n",
      "32 200 5 swish\n",
      "32 200 5 relu\n",
      "32 200 8 elu\n",
      "32 200 8 swish\n",
      "32 200 8 relu\n",
      "32 500 1 elu\n",
      "32 500 1 swish\n",
      "32 500 1 relu\n",
      "32 500 5 elu\n",
      "32 500 5 swish\n",
      "32 500 5 relu\n",
      "32 500 8 elu\n",
      "32 500 8 swish\n",
      "32 500 8 relu\n"
     ]
    }
   ],
   "source": [
    "target = pd.DataFrame(y_train)\n",
    "\n",
    "results = {}\n",
    "results_train = {}\n",
    "prob=\"regression\"\n",
    "\n",
    "batch_size = [64,32]\n",
    "epochs = [200, 500]\n",
    "learn_rate = [1,5,8,]\n",
    "activation =[\"elu\", \"swish\", \"relu\"]\n",
    "\n",
    "for b in batch_size:\n",
    "    for e in epochs:\n",
    "        for l in learn_rate:\n",
    "            for a in activation:\n",
    "                print(b, e, l, a)\n",
    "                if prob==\"class\":\n",
    "                    skf = StratifiedKFold(n_splits=3)\n",
    "                    X = np.zeros(len(target))\n",
    "                    y = target\n",
    "                else:\n",
    "                    skf = KFold(n_splits=3)\n",
    "                    X = data_blocks[0]\n",
    "                    y = None\n",
    "                avg_performance = []\n",
    "                avg_performance_train = []\n",
    "                for train_index, validation_index in skf.split(X=X,y=y):\n",
    "                    # which blocks to use\n",
    "                    data_blocks_ss = [pd.DataFrame(data_blocks[i]) for i in [0,1,2,3]]\n",
    "                    train_data = [d.iloc[train_index,:] for d in data_blocks_ss]\n",
    "                    train_target = target.iloc[train_index,]\n",
    "                    validation_data = [d.iloc[validation_index,:] for d in data_blocks_ss]\n",
    "                    validation_target = target.iloc[validation_index,]\n",
    "\n",
    "                    # Standard scaling\n",
    "                    for i in range(len(train_data)):\n",
    "                        sc = StandardScaler()\n",
    "                        train_data[i] = sc.fit_transform(train_data[i])\n",
    "                        validation_data[i] = sc.transform(validation_data[i])\n",
    "\n",
    "                    network = build_block_network(data = train_data, activation=a, learning_rate=l,\n",
    "                                                  prob=prob, epochs=e)\n",
    "                    \n",
    "                    network.fit(train_data, train_target,\n",
    "                                cvfold=None, epochs=e, batch_size=b, verbose=0,  problem=prob)\n",
    "                    pred = network.predict(validation_data)\n",
    "\n",
    "                    pred_train = network.predict(train_data)\n",
    "                    if prob==\"class\":\n",
    "                        pred[pred >= 0.5] = 1\n",
    "                        pred[pred <0.5] = 0\n",
    "                        pred_train[pred_train >= 0.5] = 1\n",
    "                        pred_train[pred_train < 0.5] = 0\n",
    "                        avg_performance.append(f1_score(y_true=validation_target, y_pred=pred, pos_label = 1))\n",
    "                        avg_performance_train.append(f1_score(y_true=train_target, y_pred=pred_train, pos_label = 1))\n",
    "\n",
    "                    else:\n",
    "                        avg_performance.append(r2_score(y_true=validation_target, y_pred=pred))\n",
    "                        avg_performance_train.append(r2_score(y_true=train_target, y_pred=pred_train))\n",
    "                    results[(b,e,l,a)] = avg_performance\n",
    "                    results_train[(b,e,l,a)] = avg_performance_train"
   ]
  },
  {
   "cell_type": "code",
   "execution_count": 8,
   "metadata": {},
   "outputs": [
    {
     "data": {
      "text/plain": [
       "{(64, 200, 1, 'elu'): 0.5466945097739745,\n",
       " (64, 200, 1, 'swish'): 0.6392750102241704,\n",
       " (64, 200, 1, 'relu'): 0.26810883820097087,\n",
       " (64, 200, 5, 'elu'): 0.4835460843529031,\n",
       " (64, 200, 5, 'swish'): 0.2567559440144162,\n",
       " (64, 200, 5, 'relu'): -0.3296442448354955,\n",
       " (64, 200, 8, 'elu'): 0.5065305228159465,\n",
       " (64, 200, 8, 'swish'): 0.5795581176249653,\n",
       " (64, 200, 8, 'relu'): 0.06331220969377956,\n",
       " (64, 500, 1, 'elu'): 0.6878284638951017,\n",
       " (64, 500, 1, 'swish'): 0.7764067414616758,\n",
       " (64, 500, 1, 'relu'): 0.23122475610542337,\n",
       " (64, 500, 5, 'elu'): 0.701380167628766,\n",
       " (64, 500, 5, 'swish'): 0.6127428158160398,\n",
       " (64, 500, 5, 'relu'): 0.2069835155359995,\n",
       " (64, 500, 8, 'elu'): 0.7240613931757265,\n",
       " (64, 500, 8, 'swish'): 0.6113163920608573,\n",
       " (64, 500, 8, 'relu'): 0.3880726100343092,\n",
       " (32, 200, 1, 'elu'): 0.4215528740741832,\n",
       " (32, 200, 1, 'swish'): 0.26321844696055285,\n",
       " (32, 200, 1, 'relu'): 0.4965973293411447,\n",
       " (32, 200, 5, 'elu'): 0.44722629361841965,\n",
       " (32, 200, 5, 'swish'): 0.3034955287233792,\n",
       " (32, 200, 5, 'relu'): 0.30214592880830504,\n",
       " (32, 200, 8, 'elu'): 0.5066324475929221,\n",
       " (32, 200, 8, 'swish'): 0.7400108822526553,\n",
       " (32, 200, 8, 'relu'): 0.627322935967699,\n",
       " (32, 500, 1, 'elu'): 0.7244567693613111,\n",
       " (32, 500, 1, 'swish'): 0.6306395309959204,\n",
       " (32, 500, 1, 'relu'): 0.29483943521537814,\n",
       " (32, 500, 5, 'elu'): 0.7251939649377664,\n",
       " (32, 500, 5, 'swish'): 0.814048127092953,\n",
       " (32, 500, 5, 'relu'): 0.27027774507390684,\n",
       " (32, 500, 8, 'elu'): 0.6254475694694054,\n",
       " (32, 500, 8, 'swish'): 0.6611687760554464,\n",
       " (32, 500, 8, 'relu'): 0.47514246881607036}"
      ]
     },
     "execution_count": 8,
     "metadata": {},
     "output_type": "execute_result"
    }
   ],
   "source": [
    "res_dict = {}\n",
    "for k in results.keys():\n",
    "    res_dict[k] = np.mean(results[k])\n",
    "res_dict"
   ]
  },
  {
   "cell_type": "code",
   "execution_count": 9,
   "metadata": {},
   "outputs": [
    {
     "data": {
      "text/plain": [
       "{(64, 200, 1, 'elu'): 0.7379021281237823,\n",
       " (64, 200, 1, 'swish'): 0.8665815561376563,\n",
       " (64, 200, 1, 'relu'): 0.6252444090120177,\n",
       " (64, 200, 5, 'elu'): 0.6371825136006473,\n",
       " (64, 200, 5, 'swish'): 0.3300360214781692,\n",
       " (64, 200, 5, 'relu'): -0.3277702259335428,\n",
       " (64, 200, 8, 'elu'): 0.8547793573572519,\n",
       " (64, 200, 8, 'swish'): 0.7427130413386275,\n",
       " (64, 200, 8, 'relu'): 0.24129509360086973,\n",
       " (64, 500, 1, 'elu'): 0.986557897951489,\n",
       " (64, 500, 1, 'swish'): 0.9875293352025946,\n",
       " (64, 500, 1, 'relu'): 0.30236963048836646,\n",
       " (64, 500, 5, 'elu'): 0.9580540029054697,\n",
       " (64, 500, 5, 'swish'): 0.7720731560850824,\n",
       " (64, 500, 5, 'relu'): 0.6363664330417164,\n",
       " (64, 500, 8, 'elu'): 0.9845057665383344,\n",
       " (64, 500, 8, 'swish'): 0.9920683481158087,\n",
       " (64, 500, 8, 'relu'): 0.6406421553834981,\n",
       " (32, 200, 1, 'elu'): 0.5875381383820028,\n",
       " (32, 200, 1, 'swish'): 0.3781245118590089,\n",
       " (32, 200, 1, 'relu'): 0.8567061931172123,\n",
       " (32, 200, 5, 'elu'): 0.8052715355701875,\n",
       " (32, 200, 5, 'swish'): 0.40858200595680055,\n",
       " (32, 200, 5, 'relu'): 0.5405937133137461,\n",
       " (32, 200, 8, 'elu'): 0.8889788451108828,\n",
       " (32, 200, 8, 'swish'): 0.9541862444798794,\n",
       " (32, 200, 8, 'relu'): 0.9570854463278559,\n",
       " (32, 500, 1, 'elu'): 0.9943064430122649,\n",
       " (32, 500, 1, 'swish'): 0.9883735678344614,\n",
       " (32, 500, 1, 'relu'): 0.3291035054420473,\n",
       " (32, 500, 5, 'elu'): 0.978153269377578,\n",
       " (32, 500, 5, 'swish'): 0.9959037037417356,\n",
       " (32, 500, 5, 'relu'): 0.32651784741947054,\n",
       " (32, 500, 8, 'elu'): 0.9815893909164976,\n",
       " (32, 500, 8, 'swish'): 0.9927685834766576,\n",
       " (32, 500, 8, 'relu'): 0.6610574503626157}"
      ]
     },
     "execution_count": 9,
     "metadata": {},
     "output_type": "execute_result"
    }
   ],
   "source": [
    "res_dict_train = {}\n",
    "for k in results_train.keys():\n",
    "    res_dict_train[k] = np.mean(results_train[k])\n",
    "res_dict_train"
   ]
  },
  {
   "cell_type": "code",
   "execution_count": 10,
   "metadata": {
    "scrolled": true
   },
   "outputs": [
    {
     "data": {
      "image/png": "[encoded data removed]",
      "text/plain": [
       "<IPython.core.display.Image object>"
      ]
     },
     "execution_count": 10,
     "metadata": {},
     "output_type": "execute_result"
    }
   ],
   "source": [
    "from tensorflow.keras.utils import plot_model, model_to_dot\n",
    "plot_model(network.comb_net, show_shapes=True, show_layer_names=True,rankdir='LR', dpi=96, expand_nested=True)"
   ]
  },
  {
   "cell_type": "code",
   "execution_count": 11,
   "metadata": {},
   "outputs": [
    {
     "name": "stdout",
     "output_type": "stream",
     "text": [
      "batch size: 32\n",
      "epochs: 500\n",
      "learning_rate: 5\n",
      "activation: swish\n"
     ]
    }
   ],
   "source": [
    "batch_size, epochs, learning_rate, activation = max(res_dict, key =  res_dict.get)    \n",
    "print(\"batch size:\", batch_size)\n",
    "print(\"epochs:\", epochs)\n",
    "print(\"learning_rate:\", learning_rate)\n",
    "print(\"activation:\", activation)"
   ]
  },
  {
   "cell_type": "code",
   "execution_count": 12,
   "metadata": {},
   "outputs": [
    {
     "name": "stdout",
     "output_type": "stream",
     "text": [
      "<class 'pandas.core.series.Series'> yes\n",
      "<class 'pandas.core.series.Series'> yes\n"
     ]
    }
   ],
   "source": [
    "for i in range(len(data_blocks)):\n",
    "    sc = StandardScaler()\n",
    "    if data_blocks[i].ndim == 1:\n",
    "        print(type(data_blocks[i]), \"yes\")\n",
    "        data_blocks[i] = data_blocks[i].values\n",
    "        data_blocks_test[i] = data_blocks_test[i].values\n",
    "        data_blocks[i] = data_blocks[i].reshape(-1,1)\n",
    "        data_blocks_test[i] = data_blocks_test[i].reshape(-1,1)\n",
    "    data_blocks[i] = sc.fit_transform(data_blocks[i])\n",
    "    data_blocks_test[i] = sc.transform(data_blocks_test[i])"
   ]
  },
  {
   "cell_type": "code",
   "execution_count": 13,
   "metadata": {},
   "outputs": [],
   "source": [
    "def create_list(num):\n",
    "        return [None for _ in range(num)]\n",
    "\n",
    "\n",
    "n = 30\n",
    "\n",
    "# metrics\n",
    "rmseiqr = create_list(n)\n",
    "rmse_q1 = np.quantile(y_test, 0.25)\n",
    "rmse_q3 = np.quantile(y_test, 0.75)\n",
    "\n",
    "r2 = create_list(n)\n",
    "\n",
    "KI = create_list(n)\n",
    "KO = create_list(n)\n",
    "\n",
    "vargrad_max = create_list(n)\n",
    "vargrad_mean = create_list(n)\n",
    "\n",
    "time_trac = create_list(n)\n",
    "\n",
    "for i in range(n):\n",
    "    np.random.seed(i)\n",
    "    tf.random.set_seed(i)\n",
    "    \n",
    "    start = time.time()\n",
    "    network = build_block_network(data=data_blocks, activation=activation,\n",
    "                                learning_rate=learning_rate, prob=\"regression\", epochs=epochs)\n",
    "\n",
    "    network.fit(data_blocks, y_train, epochs=epochs, batch_size=batch_size,\n",
    "                validation_data = (data_blocks_test,  y_test), verbose=0, problem=\"regression\")\n",
    "    \n",
    "    end = time.time()\n",
    "    time_trac[i] = end-start\n",
    "    \n",
    "    pred = network.predict(data_blocks_test)\n",
    "    rmseiqr[i] = (mean_squared_error(y_test, pred, squared=False)/(rmse_q3-rmse_q1))\n",
    "    r2[i] = r2_score(y_test, pred)\n",
    "    \n",
    "    l = 10 # number of bins\n",
    "    KI[i] = network.MI(data_blocks, type=\"mean\", eps=1e-100, bins=l, knock_out=False, on_input=False,\n",
    "                        density=True, plot=False)\n",
    "    \n",
    "    KO[i] = np.log2(l) - network.MI(data_blocks, type=\"mean\", eps=1e-100, bins=l, knock_out=True, on_input=False,\n",
    "                         density=True, plot=False)\n",
    "\n",
    "\n",
    "    vargrad_max[i] = network.vargrad_input(data_blocks, type=\"max\", seed=i)\n",
    "    vargrad_mean[i] = network.vargrad_input(data_blocks, type=\"mean\", seed=i)"
   ]
  },
  {
   "cell_type": "code",
   "execution_count": 14,
   "metadata": {},
   "outputs": [
    {
     "name": "stdout",
     "output_type": "stream",
     "text": [
      "average runtime: 10.0 seconds\n"
     ]
    }
   ],
   "source": [
    "print(\"average runtime:\", np.round(np.mean(time_trac)), \"seconds\")"
   ]
  },
  {
   "cell_type": "code",
   "execution_count": 15,
   "metadata": {},
   "outputs": [
    {
     "name": "stdout",
     "output_type": "stream",
     "text": [
      "Mean rmseiqr: 0.22940063100026098 sd rmseiqr: 0.05054719270127529\n",
      "Mean R2: 0.8463428089774822 sd R2: 0.06905020002331033\n"
     ]
    }
   ],
   "source": [
    "print(\"Mean rmseiqr:\", np.mean(rmseiqr), \"sd rmseiqr:\", np.std(rmseiqr))\n",
    "print(\"Mean R2:\", np.mean(r2), \"sd R2:\", np.std(r2))"
   ]
  },
  {
   "cell_type": "code",
   "execution_count": 16,
   "metadata": {},
   "outputs": [
    {
     "data": {
      "text/plain": [
       "<matplotlib.collections.PathCollection at 0x7fa4381be400>"
      ]
     },
     "execution_count": 16,
     "metadata": {},
     "output_type": "execute_result"
    },
    {
     "data": {
      "image/png": "[encoded data removed]",
      "text/plain": [
       "<Figure size 432x288 with 1 Axes>"
      ]
     },
     "metadata": {
      "needs_background": "light"
     },
     "output_type": "display_data"
    }
   ],
   "source": [
    "plt.scatter(x=range(n), y = rmseiqr)"
   ]
  },
  {
   "cell_type": "code",
   "execution_count": 17,
   "metadata": {},
   "outputs": [
    {
     "data": {
      "text/plain": [
       "<matplotlib.collections.PathCollection at 0x7fa4ec6f7490>"
      ]
     },
     "execution_count": 17,
     "metadata": {},
     "output_type": "execute_result"
    },
    {
     "data": {
      "image/png": "[encoded data removed]",
      "text/plain": [
       "<Figure size 432x288 with 1 Axes>"
      ]
     },
     "metadata": {
      "needs_background": "light"
     },
     "output_type": "display_data"
    }
   ],
   "source": [
    "plt.scatter(x = range(n), y = r2)"
   ]
  },
  {
   "cell_type": "code",
   "execution_count": 18,
   "metadata": {},
   "outputs": [
    {
     "data": {
      "text/plain": [
       "array([ 1,  2,  5,  7,  8,  9, 10, 11, 12, 13, 14, 15, 16, 17, 18, 20, 21,\n",
       "       22, 23, 24, 25, 26, 29])"
      ]
     },
     "execution_count": 18,
     "metadata": {},
     "output_type": "execute_result"
    }
   ],
   "source": [
    "outliers = np.where(np.array(r2)<0.9)[0]\n",
    "outliers"
   ]
  },
  {
   "cell_type": "code",
   "execution_count": 19,
   "metadata": {},
   "outputs": [],
   "source": [
    "if len(outliers)>=1:\n",
    "    rmseiqr = remove_outliers(rmseiqr, outliers)\n",
    "    r2 = remove_outliers(r2, outliers)\n",
    "    \n",
    "    t = []\n",
    "    for i in KO:\n",
    "        t.append(i.tolist())\n",
    "\n",
    "    KO = remove_outliers(t, outliers)\n",
    "\n",
    "    t = []\n",
    "    for i in KI:\n",
    "        t.append(i.tolist())\n",
    "\n",
    "    KI = remove_outliers(t, outliers)\n",
    "    vargrad_max = remove_outliers(vargrad_max, outliers)\n",
    "    vargrad_mean = remove_outliers(vargrad_mean, outliers)"
   ]
  },
  {
   "cell_type": "code",
   "execution_count": 20,
   "metadata": {},
   "outputs": [
    {
     "name": "stdout",
     "output_type": "stream",
     "text": [
      "Mean rmseiqr: 0.16932396788236512 sd rmseiqr: 0.01484422467025948\n",
      "Mean R2: 0.9195482057044926 sd R2: 0.013591074289888894\n"
     ]
    }
   ],
   "source": [
    "print(\"Mean rmseiqr:\", np.mean(rmseiqr), \"sd rmseiqr:\", np.std(rmseiqr))\n",
    "print(\"Mean R2:\", np.mean(r2), \"sd R2:\", np.std(r2))"
   ]
  },
  {
   "cell_type": "code",
   "execution_count": 23,
   "metadata": {},
   "outputs": [],
   "source": [
    "pd.DataFrame(np.vstack(KO)).to_csv(\"raw_results/results_servo/MI_knock_out.csv\", index=False)\n",
    "pd.DataFrame(np.vstack(KI)).to_csv(\"raw_results/results_servo/MI_knock_in.csv\", index=False)\n",
    "pd.DataFrame(np.vstack(vargrad_max)).to_csv(\"raw_results/results_servo/vargrad_max.csv\", index=False)\n",
    "pd.DataFrame(np.vstack(vargrad_mean)).to_csv(\"raw_results/results_servo/vargrad_mean.csv\", index=False)\n",
    "\n",
    "pd.DataFrame(r2).to_csv(\"raw_results/results_servo/r2.csv\", index=False)\n",
    "pd.DataFrame(rmseiqr).to_csv(\"raw_results/results_servo/rmseiqr.csv\", index=False)"
   ]
  },
  {
   "cell_type": "code",
   "execution_count": null,
   "metadata": {},
   "outputs": [],
   "source": [
    "def violinplot_block_importance(measure, name, minimize,title_text=None):\n",
    "    \n",
    "    length = np.shape(np.vstack(measure))[0]\n",
    "\n",
    "    dic = {\"Block\": list(np.repeat(\"Block1\", length)) + list(np.repeat(\"Block2\", length))\n",
    "           + list(np.repeat(\"Block3\", length))\n",
    "                 + list(np.repeat(\"Block4\", length)),\n",
    "                                                    name : np.column_stack(np.vstack(measure)).reshape(-1,)}\n",
    "    dic = pd.DataFrame(dic)\n",
    "\n",
    "    fig, ax =plt.subplots(1,1)\n",
    "    fig.set_size_inches(15, 10)\n",
    "    sns.set(font_scale = 2)\n",
    "\n",
    "    a = sns.boxplot(x=\"Block\", y=name, data=dic, whis=np.inf, palette=\"Paired\")\n",
    "    sns.swarmplot(x=\"Block\", y=name, data=dic, color=\".2\", size=6)\n",
    "    a.set(xlabel=None)\n",
    "    a.set(title=title_text)"
   ]
  },
  {
   "cell_type": "code",
   "execution_count": null,
   "metadata": {},
   "outputs": [],
   "source": [
    "violinplot_block_importance(KO, \"MI knock out\", minimize=False, title_text = \"MI knock out\")"
   ]
  },
  {
   "cell_type": "code",
   "execution_count": null,
   "metadata": {},
   "outputs": [],
   "source": [
    "violinplot_block_importance(KI, \"MI knock in\", minimize=False, title_text = \"MI knock in\")"
   ]
  },
  {
   "cell_type": "code",
   "execution_count": null,
   "metadata": {
    "scrolled": true
   },
   "outputs": [],
   "source": [
    "violinplot_block_importance(vargrad_max, \"VG max\", minimize=False, title_text = \"Composite max\")"
   ]
  },
  {
   "cell_type": "code",
   "execution_count": null,
   "metadata": {},
   "outputs": [],
   "source": [
    "violinplot_block_importance(vargrad_mean, \"VG mean\", minimize=False, title_text = \"Composite mean\")"
   ]
  }
 ],
 "metadata": {
  "kernelspec": {
   "display_name": "Python 3",
   "language": "python",
   "name": "python3"
  },
  "language_info": {
   "codemirror_mode": {
    "name": "ipython",
    "version": 3
   },
   "file_extension": ".py",
   "mimetype": "text/x-python",
   "name": "python",
   "nbconvert_exporter": "python",
   "pygments_lexer": "ipython3",
   "version": "3.8.10"
  }
 },
 "nbformat": 4,
 "nbformat_minor": 4
}
