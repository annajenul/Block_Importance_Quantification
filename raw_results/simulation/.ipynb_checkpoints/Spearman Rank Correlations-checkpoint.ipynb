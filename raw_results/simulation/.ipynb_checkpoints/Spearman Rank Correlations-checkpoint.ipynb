{
 "cells": [
  {
   "cell_type": "code",
   "execution_count": 1,
   "metadata": {},
   "outputs": [],
   "source": [
    "import numpy as np\n",
    "import pandas as pd\n",
    "from sklearn.metrics import mean_squared_error, r2_score\n",
    "import warnings\n",
    "from scipy.stats import spearmanr\n",
    "import seaborn as sns\n",
    "import matplotlib.pyplot as plt\n",
    "warnings.filterwarnings(\"ignore\")"
   ]
  },
  {
   "cell_type": "code",
   "execution_count": 11,
   "metadata": {},
   "outputs": [],
   "source": [
    "def spearman_analysis(S):\n",
    "    d = \"~/GitHub/Block_Importance_Quantification/examples/data/simulation/\"\n",
    "    X_train = pd.read_csv(d +\"X_train.csv\").iloc[:,1:]\n",
    "    X_test = pd.read_csv(d +\"X_test.csv\").iloc[:,1:]\n",
    "    y_train = pd.read_csv(d + \"y_train_\"+ S +\".csv\").iloc[:,1:]\n",
    "    y_test = pd.read_csv(d + \"y_test_\"+ S +\".csv\").iloc[:,1:]\n",
    "    beta = pd.read_csv(d + \"beta_\"+ S +\".csv\").iloc[:,1:]\n",
    "\n",
    "    r2 = pd.read_csv(\"results_\"+S+\"/r2.csv\").iloc[:,0]\n",
    "    no_outliers = np.where(r2 > 0.9)[0]\n",
    "\n",
    "    KO = pd.read_csv(\"results_\"+S+\"/MI_knock_out.csv\").iloc[no_outliers,:]\n",
    "    KI = pd.read_csv(\"results_\"+S+\"/MI_knock_in.csv\").iloc[no_outliers,:]\n",
    "    V_max = pd.read_csv(\"results_\"+S+\"/vargrad_max.csv\").iloc[no_outliers,:]\n",
    "    V_mean = pd.read_csv(\"results_\"+S+\"/vargrad_mean.csv\").iloc[no_outliers,:]\n",
    "    \n",
    "    # data blocks\n",
    "    data_blocks = []\n",
    "    data_blocks_test = []\n",
    "    beta_blocks = []\n",
    "    j=0\n",
    "    for i in range(8):\n",
    "        data_blocks.append(X_train.iloc[:,j:(j+32)])\n",
    "        data_blocks_test.append(X_test.iloc[:,j:(j+32)])\n",
    "        beta_blocks.append(beta.iloc[j:(j+32),j:(j+32)].values)\n",
    "        j = j+32\n",
    "\n",
    "\n",
    "    # ground truth Knock In\n",
    "    rmseiqr_KI = []\n",
    "    r2_KI = []\n",
    "    rmse_q1 = np.quantile(y_train, 0.25)\n",
    "    rmse_q3 = np.quantile(y_train, 0.75)\n",
    "\n",
    "    for i in range(8):\n",
    "        TP = np.diagonal(np.matmul(np.matmul(data_blocks[i], beta_blocks[i]), np.transpose(data_blocks[i])))\n",
    "        r2_KI.append(r2_score(y_true=y_train, y_pred=TP))\n",
    "        rmseiqr_KI.append(-1 * mean_squared_error(y_true=y_train, y_pred=TP, squared=False) / (rmse_q3-rmse_q1))\n",
    "\n",
    "    # ground truth Knock Out\n",
    "    rmseiqr_KO = []\n",
    "    r2_KO = []\n",
    "    j=0\n",
    "    for i in range(8):\n",
    "        bb = beta.copy()\n",
    "        bb.iloc[j:(j+32), j:(j+32)] = 0\n",
    "        TP = np.diagonal(np.matmul(np.matmul(X_train, bb), np.transpose(X_train)))\n",
    "        r2_KO.append(r2_score(y_true=y_train, y_pred=TP))\n",
    "        rmseiqr_KO.append(mean_squared_error(y_true=y_train, y_pred=TP, squared=False) / (rmse_q3-rmse_q1))\n",
    "        j = j+32\n",
    "\n",
    "    # summary statistics (ground truth VarGrad-Max and VarGrad-Mean)    \n",
    "    def summary_merge(vec_list, absolute=True):\n",
    "\n",
    "        def summary(vec, absolute=True):\n",
    "\n",
    "            if absolute:\n",
    "                vec = abs(vec)\n",
    "\n",
    "            summary = {\"mean\": np.mean(vec),\n",
    "                       \"max\": np.max(vec)}\n",
    "\n",
    "            return pd.DataFrame(summary, index=[0])\n",
    "\n",
    "        summary = [np.round(summary(vec, absolute=absolute), 3) for vec in vec_list]\n",
    "        return(pd.concat(summary, axis=0, ignore_index=True))\n",
    "\n",
    "    summary = summary_merge(beta_blocks)\n",
    "\n",
    "\n",
    "    # Spearman Rank Correlation\n",
    "    def corr_summary(metric, measure):\n",
    "        sp = []\n",
    "        for i in range(np.shape(metric)[0]):\n",
    "            sp.append(spearmanr(metric.iloc[i,:], measure)[0])\n",
    "        return np.mean(sp), np.std(sp)\n",
    "\n",
    "\n",
    "    print(\"MI knock in:\", corr_summary(KI, rmseiqr_KI))\n",
    "    print(\"MI knock out:\", corr_summary(KO, rmseiqr_KO))\n",
    "\n",
    "    print(\"VG max:\", corr_summary(V_max, summary[\"max\"]))\n",
    "    print(\"VG mean:\", corr_summary(V_mean, summary[\"mean\"]))\n"
   ]
  },
  {
   "cell_type": "code",
   "execution_count": 12,
   "metadata": {},
   "outputs": [
    {
     "name": "stdout",
     "output_type": "stream",
     "text": [
      "MI knock in: (0.9869047619047617, 0.011845088536983529)\n",
      "MI knock out: (0.9904761904761905, 0.013883218797250681)\n",
      "VG max: (0.9726190476190475, 0.01729266553134992)\n",
      "VG mean: (0.9833333333333332, 0.01325658181626192)\n"
     ]
    }
   ],
   "source": [
    "spearman_analysis(\"S1a\")"
   ]
  },
  {
   "cell_type": "code",
   "execution_count": 13,
   "metadata": {},
   "outputs": [
    {
     "name": "stdout",
     "output_type": "stream",
     "text": [
      "MI knock in: (0.9833333333333334, 0.020062261364705576)\n",
      "MI knock out: (0.9845238095238095, 0.017292665531349897)\n",
      "VG max: (0.5773502691896258, 1.1102230246251565e-16)\n",
      "VG mean: (0.9523809523809522, 0.02916059217599022)\n"
     ]
    }
   ],
   "source": [
    "spearman_analysis(\"S1b\")"
   ]
  },
  {
   "cell_type": "code",
   "execution_count": 14,
   "metadata": {},
   "outputs": [
    {
     "name": "stdout",
     "output_type": "stream",
     "text": [
      "MI knock in: (0.8148148148148151, 0.026978939225358618)\n",
      "MI knock out: (0.8492063492063493, 0.038880789567986906)\n",
      "VG max: (0.925925925925926, 0.0249576220424778)\n",
      "VG mean: (0.9597546098342258, 0.02030613569606609)\n"
     ]
    }
   ],
   "source": [
    "spearman_analysis(\"S1c\")"
   ]
  },
  {
   "cell_type": "code",
   "execution_count": 15,
   "metadata": {},
   "outputs": [
    {
     "name": "stdout",
     "output_type": "stream",
     "text": [
      "MI knock in: (0.9952380952380953, 0.00952380952380949)\n",
      "MI knock out: (0.9738095238095237, 0.016666666666666653)\n",
      "VG max: (0.9760654034593061, 0.01672394060407837)\n",
      "VG mean: (0.9738095238095239, 0.01666666666666665)\n"
     ]
    }
   ],
   "source": [
    "spearman_analysis(\"S2a\")"
   ]
  },
  {
   "cell_type": "code",
   "execution_count": 16,
   "metadata": {},
   "outputs": [
    {
     "name": "stdout",
     "output_type": "stream",
     "text": [
      "MI knock in: (0.9880952380952379, 0.011904761904761862)\n",
      "MI knock out: (0.9976190476190476, 0.007142857142857117)\n",
      "VG max: (0.5773502691896258, 1.1102230246251565e-16)\n",
      "VG mean: (0.9547619047619046, 0.021162367660275207)\n"
     ]
    }
   ],
   "source": [
    "spearman_analysis(\"S2b\")"
   ]
  },
  {
   "cell_type": "code",
   "execution_count": 17,
   "metadata": {},
   "outputs": [
    {
     "name": "stdout",
     "output_type": "stream",
     "text": [
      "MI knock in: (0.8922305764411029, 0.045286493733314934)\n",
      "MI knock out: (0.8947368421052632, 0.06384831680630074)\n",
      "VG max: (0.9083049702194768, 0.017917334028643258)\n",
      "VG mean: (-0.396477325654442, 0.03601163045724992)\n"
     ]
    }
   ],
   "source": [
    "spearman_analysis(\"S2c\")"
   ]
  }
 ],
 "metadata": {
  "kernelspec": {
   "display_name": "Python 3",
   "language": "python",
   "name": "python3"
  },
  "language_info": {
   "codemirror_mode": {
    "name": "ipython",
    "version": 3
   },
   "file_extension": ".py",
   "mimetype": "text/x-python",
   "name": "python",
   "nbconvert_exporter": "python",
   "pygments_lexer": "ipython3",
   "version": "3.8.10"
  }
 },
 "nbformat": 4,
 "nbformat_minor": 4
}
